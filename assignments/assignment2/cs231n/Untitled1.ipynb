{
 "cells": [
  {
   "cell_type": "code",
   "execution_count": 5,
   "id": "1bfe4bf6",
   "metadata": {},
   "outputs": [],
   "source": [
    "l=5\n",
    "\n",
    "tt = [{\"mode\": \"train\"} for i in range(l - 1)]"
   ]
  },
  {
   "cell_type": "code",
   "execution_count": 6,
   "id": "eabd8867",
   "metadata": {},
   "outputs": [],
   "source": [
    "tt = [{} for i in range(l - 1)]"
   ]
  },
  {
   "cell_type": "code",
   "execution_count": 7,
   "id": "02239925",
   "metadata": {},
   "outputs": [
    {
     "name": "stdout",
     "output_type": "stream",
     "text": [
      "[{}, {}, {}, {}]\n"
     ]
    }
   ],
   "source": [
    "print(tt)"
   ]
  },
  {
   "cell_type": "code",
   "execution_count": null,
   "id": "0a91cad3",
   "metadata": {},
   "outputs": [],
   "source": []
  }
 ],
 "metadata": {
  "kernelspec": {
   "display_name": "Python 3",
   "language": "python",
   "name": "python3"
  },
  "language_info": {
   "codemirror_mode": {
    "name": "ipython",
    "version": 3
   },
   "file_extension": ".py",
   "mimetype": "text/x-python",
   "name": "python",
   "nbconvert_exporter": "python",
   "pygments_lexer": "ipython3",
   "version": "3.8.8"
  }
 },
 "nbformat": 4,
 "nbformat_minor": 5
}
